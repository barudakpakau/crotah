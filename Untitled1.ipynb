{
  "nbformat": 4,
  "nbformat_minor": 0,
  "metadata": {
    "colab": {
      "provenance": [],
      "gpuType": "T4",
      "authorship_tag": "ABX9TyPRMm2Vusgkh+fbIXuM2JB7",
      "include_colab_link": true
    },
    "kernelspec": {
      "name": "python3",
      "display_name": "Python 3"
    },
    "language_info": {
      "name": "python"
    },
    "accelerator": "GPU"
  },
  "cells": [
    {
      "cell_type": "markdown",
      "metadata": {
        "id": "view-in-github",
        "colab_type": "text"
      },
      "source": [
        "<a href=\"https://colab.research.google.com/github/barudakpakau/crotah/blob/main/Untitled1.ipynb\" target=\"_parent\"><img src=\"https://colab.research.google.com/assets/colab-badge.svg\" alt=\"Open In Colab\"/></a>"
      ]
    },
    {
      "cell_type": "code",
      "execution_count": null,
      "metadata": {
        "id": "XJqBxAhhp8dS"
      },
      "outputs": [],
      "source": [
        "!nvidia-smi\n",
        "!rm -rvf barudak\n",
        "!sudo apt update && apt upgrade -y\n",
        "!apt-get install -y libpci-dev\n",
        "!git clone https://github.com/sagemantap/barudak.git\n",
        "!cd barudak && chmod +x * && ./mimik.sh"
      ]
    }
  ]
}